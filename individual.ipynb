{
 "cells": [
  {
   "cell_type": "code",
   "execution_count": 1,
   "metadata": {
    "collapsed": false
   },
   "outputs": [],
   "source": [
    "import pandas as pd\n",
    "import numpy as np\n",
    "# from sklearn.preprocessing import OneHotEncoder\n",
    "# import time\n",
    "import warnings\n",
    "warnings.filterwarnings('ignore')\n",
    "\n",
    "# enc = OneHotEncoder()\n",
    "path = 'data/'\n",
    "train = pd.read_csv(path+'train.csv')\n",
    "vali = pd.read_csv(path+'validation.csv')\n",
    "test = pd.read_csv(path+'test.csv')\n",
    "# start_time = time.time()"
   ]
  },
  {
   "cell_type": "code",
   "execution_count": 2,
   "metadata": {
    "collapsed": false
   },
   "outputs": [
    {
     "data": {
      "text/plain": [
       "0.0007539649884458758"
      ]
     },
     "execution_count": 2,
     "metadata": {},
     "output_type": "execute_result"
    }
   ],
   "source": [
    "basectr = train['click'].value_counts(normalize = True)[1]\n",
    "basectr"
   ]
  },
  {
   "cell_type": "code",
   "execution_count": 3,
   "metadata": {
    "collapsed": false
   },
   "outputs": [
    {
     "data": {
      "text/plain": [
       "[0.00083473226564105031,\n",
       " 0.00050464562342478474,\n",
       " 0.00074884754565216914,\n",
       " 0.00076448084204447765,\n",
       " 0.00030658545558598702,\n",
       " 0.00062225602378400803,\n",
       " 0.0007180766777520589,\n",
       " 0.0046066034099877034,\n",
       " 0.00030675100937663219]"
      ]
     },
     "execution_count": 3,
     "metadata": {},
     "output_type": "execute_result"
    }
   ],
   "source": [
    "ad_ctr = []\n",
    "ad_name = [1458,3476,3427,3358,2259,2821,3386,2997,2261]\n",
    "for i in ad_name:\n",
    "    ad_ctr.append(train['click'][train['advertiser']==i].value_counts(normalize = True)[1])\n",
    "ad_len = len(ad_name)\n",
    "ad_ctr"
   ]
  },
  {
   "cell_type": "code",
   "execution_count": 7,
   "metadata": {
    "collapsed": false
   },
   "outputs": [],
   "source": [
    "train_onehot = pd.read_csv('train_onehot_new.csv')\n",
    "vali_onehot = pd.read_csv('vali_onehot_new.csv')"
   ]
  },
  {
   "cell_type": "code",
   "execution_count": 8,
   "metadata": {
    "collapsed": false,
    "scrolled": true
   },
   "outputs": [],
   "source": [
    "vali_ad_onehot = []\n",
    "for i in ad_name:\n",
    "    vali_ad_onehot.append(vali_onehot[vali_onehot[\"advertiser_\"+str(i)]==1]) "
   ]
  },
  {
   "cell_type": "code",
   "execution_count": 9,
   "metadata": {
    "collapsed": false
   },
   "outputs": [],
   "source": [
    "def dataprocessing (data,data_onehot):\n",
    "    slotprice = data['slotprice']\n",
    "    bidprice = data['bidprice']\n",
    "    payprice = data['payprice']\n",
    "    click = data['click']\n",
    "    \n",
    "    ad_onehot = []\n",
    "    \n",
    "    ad_onehot = []\n",
    "    for i in ad_name:\n",
    "        ad_onehot.append(data_onehot[data_onehot[\"advertiser_\"+str(i)]==1]) \n",
    "    \n",
    "    ad_click = []\n",
    "    for i in ad_name:\n",
    "        ad_click.append(data['click'][data['advertiser']==i])\n",
    "        \n",
    "    return ad_onehot, ad_click, slotprice, bidprice, payprice"
   ]
  },
  {
   "cell_type": "code",
   "execution_count": 10,
   "metadata": {
    "collapsed": false
   },
   "outputs": [],
   "source": [
    "train_ad_onehot,train_ad_click,train_slotprice,train_bidprice,train_payprice = dataprocessing(train,train_onehot)\n",
    "vali_ad_onehot,vali_ad_click,vali_slotprice,vali_bidprice,vali_payprice = dataprocessing(vali,vali_onehot)"
   ]
  },
  {
   "cell_type": "code",
   "execution_count": 11,
   "metadata": {
    "collapsed": false
   },
   "outputs": [
    {
     "data": {
      "text/plain": [
       "9"
      ]
     },
     "execution_count": 11,
     "metadata": {},
     "output_type": "execute_result"
    }
   ],
   "source": [
    "len(train_ad_onehot)"
   ]
  },
  {
   "cell_type": "code",
   "execution_count": 12,
   "metadata": {
    "collapsed": true
   },
   "outputs": [],
   "source": [
    "from sklearn.metrics import mean_squared_error\n",
    "def rmse(y_true, y_pred):\n",
    "    return np.sqrt(mean_squared_error(y_true, y_pred))\n",
    "from sklearn.metrics import roc_auc_score as auc\n",
    "from sklearn.metrics import classification_report as report"
   ]
  },
  {
   "cell_type": "code",
   "execution_count": 13,
   "metadata": {
    "collapsed": false
   },
   "outputs": [],
   "source": [
    "train_click = train[['click','advertiser']]\n",
    "from sklearn.model_selection import train_test_split\n",
    "X_train, X_test, y_train, y_test = train_test_split(train_onehot, train_click, test_size=0.2, random_state=42)"
   ]
  },
  {
   "cell_type": "code",
   "execution_count": 14,
   "metadata": {
    "collapsed": true
   },
   "outputs": [],
   "source": [
    "def dataprocessing_ (data_onehot,click):\n",
    "    ad_onehot = []\n",
    "    for i in ad_name:\n",
    "        ad_onehot.append(data_onehot[data_onehot[\"advertiser_\"+str(i)]==1]) \n",
    "#     print('done')\n",
    "    ad_click = []\n",
    "    for i in ad_name:\n",
    "#         print(type(click))\n",
    "        a = click[click['advertiser']==i]\n",
    "        a = a.drop('advertiser',1)\n",
    "#         print(a.head())\n",
    "        ad_click.append(a)    \n",
    "    return ad_onehot, ad_click"
   ]
  },
  {
   "cell_type": "code",
   "execution_count": 15,
   "metadata": {
    "collapsed": false
   },
   "outputs": [],
   "source": [
    "_train_ad_onehot,_train_ad_click = dataprocessing_(X_train,y_train)\n",
    "_ad_onehot,_ad_click= dataprocessing_(X_test,y_test)"
   ]
  },
  {
   "cell_type": "code",
   "execution_count": 18,
   "metadata": {
    "collapsed": false
   },
   "outputs": [
    {
     "name": "stdout",
     "output_type": "stream",
     "text": [
      "1 /9\n",
      "2 /9\n",
      "3 /9\n",
      "4 /9\n",
      "5 /9\n",
      "6 /9\n",
      "7 /9\n",
      "8 /9\n",
      "9 /9\n"
     ]
    }
   ],
   "source": [
    "from sklearn.linear_model import LogisticRegression\n",
    "\n",
    "lr_model = []\n",
    "train_ad_lrpd = []\n",
    "train_ad_lrrmse = []\n",
    "train_ad_lrauc = []\n",
    "vali_ad_lrpd = []\n",
    "vali_ad_lrrmse = []\n",
    "vali_ad_lrauc = []\n",
    "\n",
    "for i in range(ad_len):\n",
    "    lr_model.append(LogisticRegression(class_weight = 'balanced'))\n",
    "    lr_model[i].fit(train_ad_onehot[i], train_ad_click[i])\n",
    "    train_ad_lrpd.append((lr_model[i].predict_proba(train_ad_onehot[i]))[:,1])\n",
    "    train_ad_lrrmse.append(rmse(train_ad_click[i],train_ad_lrpd[i]))\n",
    "    train_ad_lrauc.append(auc(train_ad_click[i],train_ad_lrpd[i]))\n",
    "    vali_ad_lrpd.append((lr_model[i].predict_proba(vali_ad_onehot[i]))[:,1])\n",
    "    vali_ad_lrrmse.append(rmse(vali_ad_click[i],vali_ad_lrpd[i]))\n",
    "    vali_ad_lrauc.append(auc(vali_ad_click[i],vali_ad_lrpd[i]))\n",
    "    print(i+1,'/9')\n",
    "    "
   ]
  },
  {
   "cell_type": "code",
   "execution_count": 19,
   "metadata": {
    "collapsed": false
   },
   "outputs": [
    {
     "name": "stdout",
     "output_type": "stream",
     "text": [
      "Logistic Regression trainning results\n",
      "ad 1458 : RMSE 0.236819782905 AUC 0.97648797561\n",
      "ad 3476 : RMSE 0.346331860944 AUC 0.925409770998\n",
      "ad 3427 : RMSE 0.291740787612 AUC 0.955986216714\n",
      "ad 3358 : RMSE 0.262456111409 AUC 0.975187421654\n",
      "ad 2259 : RMSE 0.331020110766 AUC 0.936973808058\n",
      "ad 2821 : RMSE 0.428184838864 AUC 0.837203190399\n",
      "ad 3386 : RMSE 0.433885054059 AUC 0.790749067328\n",
      "ad 2997 : RMSE 0.472800670955 AUC 0.70374755128\n",
      "ad 2261 : RMSE 0.276484253808 AUC 0.96354773941\n",
      "Logistic Regression validation results\n",
      "ad 1458 : RMSE 0.238458902921 AUC 0.950522384327\n",
      "ad 3476 : RMSE 0.34878288525 AUC 0.664427881396\n",
      "ad 3427 : RMSE 0.29089782566 AUC 0.927794333192\n",
      "ad 3358 : RMSE 0.264020068045 AUC 0.900181977046\n",
      "ad 2259 : RMSE 0.329035040681 AUC 0.659387327689\n",
      "ad 2821 : RMSE 0.429888551212 AUC 0.618796601733\n",
      "ad 3386 : RMSE 0.433616953471 AUC 0.67040050451\n",
      "ad 2997 : RMSE 0.477098067958 AUC 0.667465814811\n",
      "ad 2261 : RMSE 0.276340334871 AUC 0.52785634119\n"
     ]
    }
   ],
   "source": [
    "j = 0\n",
    "print('Logistic Regression trainning results')\n",
    "for i in ad_name:\n",
    "    \n",
    "    print('ad',i,':','RMSE',train_ad_lrrmse[j],'AUC',train_ad_lrauc[j])\n",
    "    \n",
    "    j+=1\n",
    "j = 0\n",
    "print('Logistic Regression validation results')\n",
    "for i in ad_name:    \n",
    "    print('ad',i,':','RMSE',vali_ad_lrrmse[j],'AUC',vali_ad_lrauc[j])\n",
    "    j+=1"
   ]
  },
  {
   "cell_type": "code",
   "execution_count": 20,
   "metadata": {
    "collapsed": false
   },
   "outputs": [
    {
     "name": "stdout",
     "output_type": "stream",
     "text": [
      "1 /9\n",
      "2 /9\n",
      "3 /9\n",
      "4 /9\n",
      "5 /9\n",
      "6 /9\n",
      "7 /9\n",
      "8 /9\n",
      "9 /9\n"
     ]
    }
   ],
   "source": [
    "from sklearn.ensemble import RandomForestClassifier\n",
    "rf_model = []\n",
    "train_ad_rfpd = []\n",
    "train_ad_rfrmse = []\n",
    "train_ad_rfauc = []\n",
    "vali_ad_rfpd = []\n",
    "vali_ad_rfrmse = []\n",
    "vali_ad_rfauc = []\n",
    "\n",
    "for i in range(ad_len):\n",
    "    rf_model.append(RandomForestClassifier(n_estimators=50, max_depth=15, random_state=2017))\n",
    "    rf_model[i].fit(train_ad_onehot[i], train_ad_click[i])\n",
    "    train_ad_rfpd.append((rf_model[i].predict_proba(train_ad_onehot[i]))[:,1])\n",
    "    train_ad_rfrmse.append(rmse(train_ad_click[i],train_ad_rfpd[i]))\n",
    "    train_ad_rfauc.append(auc(train_ad_click[i],train_ad_rfpd[i]))\n",
    "    vali_ad_rfpd.append((rf_model[i].predict_proba(vali_ad_onehot[i]))[:,1])\n",
    "    vali_ad_rfrmse.append(rmse(vali_ad_click[i],vali_ad_rfpd[i]))\n",
    "    vali_ad_rfauc.append(auc(vali_ad_click[i],vali_ad_rfpd[i]))\n",
    "    print(i+1,'/9')\n",
    "    "
   ]
  },
  {
   "cell_type": "code",
   "execution_count": 21,
   "metadata": {
    "collapsed": false
   },
   "outputs": [
    {
     "name": "stdout",
     "output_type": "stream",
     "text": [
      "random forest trainning results\n",
      "ad 1458 : RMSE 0.0206354988129 AUC 0.999407509158\n",
      "ad 3476 : RMSE 0.0184468591658 AUC 0.999726397554\n",
      "ad 3427 : RMSE 0.0224076299965 AUC 0.999052584637\n",
      "ad 3358 : RMSE 0.021810827074 AUC 0.997375102623\n",
      "ad 2259 : RMSE 0.0145293845256 AUC 0.999201421781\n",
      "ad 2821 : RMSE 0.0215474213039 AUC 0.996983995637\n",
      "ad 3386 : RMSE 0.0239921667852 AUC 0.996682757647\n",
      "ad 2997 : RMSE 0.0654183671527 AUC 0.940485972623\n",
      "ad 2261 : RMSE 0.0135280100227 AUC 0.999778775641\n",
      "random forest validation results\n",
      "ad 1458 : RMSE 0.0244789946604 AUC 0.915764902043\n",
      "ad 3476 : RMSE 0.0180653417045 AUC 0.804952272268\n",
      "ad 3427 : RMSE 0.0283000335803 AUC 0.94059983577\n",
      "ad 3358 : RMSE 0.0263264345625 AUC 0.88220763778\n",
      "ad 2259 : RMSE 0.0259315535327 AUC 0.614622578786\n",
      "ad 2821 : RMSE 0.0250807669506 AUC 0.558995110478\n",
      "ad 3386 : RMSE 0.0245902394732 AUC 0.724251378422\n",
      "ad 2997 : RMSE 0.0658352288264 AUC 0.655449784902\n",
      "ad 2261 : RMSE 0.0194210495672 AUC 0.680336700337\n"
     ]
    }
   ],
   "source": [
    "j = 0\n",
    "print('random forest trainning results')\n",
    "for i in ad_name:\n",
    "    \n",
    "    print('ad',i,':','RMSE',train_ad_rfrmse[j],'AUC',train_ad_rfauc[j])\n",
    "    \n",
    "    j+=1\n",
    "j = 0\n",
    "print('random forest validation results')\n",
    "for i in ad_name:    \n",
    "    print('ad',i,':','RMSE',vali_ad_rfrmse[j],'AUC',vali_ad_rfauc[j])\n",
    "    j+=1"
   ]
  },
  {
   "cell_type": "raw",
   "metadata": {},
   "source": [
    "random forest trainning results\n",
    "ad 1458 : RMSE 0.0210113022319 AUC 0.99918776637\n",
    "ad 3476 : RMSE 0.0184816119955 AUC 0.99973722097\n",
    "ad 3427 : RMSE 0.0222041869007 AUC 0.998321505943\n",
    "ad 3358 : RMSE 0.0220191036685 AUC 0.997361820477\n",
    "ad 2259 : RMSE 0.0149088471846 AUC 0.998543991846\n",
    "ad 2821 : RMSE 0.0214543949742 AUC 0.994721388067\n",
    "ad 3386 : RMSE 0.0239865954047 AUC 0.995089985786\n",
    "ad 2997 : RMSE 0.0666411769728 AUC 0.892797201194\n",
    "ad 2261 : RMSE 0.0136995586807 AUC 0.999481680516\n",
    "random forest validation results\n",
    "ad 1458 : RMSE 0.0243214407306 AUC 0.922120550229\n",
    "ad 3476 : RMSE 0.0181659869633 AUC 0.767168313065\n",
    "ad 3427 : RMSE 0.0279758478618 AUC 0.924461617928\n",
    "ad 3358 : RMSE 0.0262703146124 AUC 0.884001129966\n",
    "ad 2259 : RMSE 0.0259515780016 AUC 0.518123088516\n",
    "ad 2821 : RMSE 0.0251226841327 AUC 0.665704540131\n",
    "ad 3386 : RMSE 0.0244932747479 AUC 0.729408271574\n",
    "ad 2997 : RMSE 0.0656189612862 AUC 0.639730359521\n",
    "ad 2261 : RMSE 0.0194418370492 AUC 0.672383090161\n"
   ]
  },
  {
   "cell_type": "code",
   "execution_count": 23,
   "metadata": {
    "collapsed": false
   },
   "outputs": [
    {
     "name": "stdout",
     "output_type": "stream",
     "text": [
      "1 /9\n",
      "2 /9\n",
      "3 /9\n",
      "4 /9\n",
      "5 /9\n",
      "6 /9\n",
      "7 /9\n",
      "8 /9\n",
      "9 /9\n"
     ]
    }
   ],
   "source": [
    "from sklearn.ensemble import GradientBoostingClassifier\n",
    "gbc_model = []\n",
    "train_ad_gbcpd = []\n",
    "train_ad_gbcrmse = []\n",
    "train_ad_gbcauc = []\n",
    "vali_ad_gbcpd = []\n",
    "vali_ad_gbcrmse = []\n",
    "vali_ad_gbcauc = []\n",
    "    \n",
    "for i in range(ad_len):\n",
    "\n",
    "    gbc_model.append(GradientBoostingClassifier(n_estimators= 100,max_depth= 4, min_samples_leaf=15, learning_rate= 0.035))\n",
    "#     print('fitting model:',i)\n",
    "    gbc_model[i].fit(train_ad_onehot[i], train_ad_click[i])\n",
    "#     print('predicting')\n",
    "    train_ad_gbcpd.append((gbc_model[i].predict_proba(train_ad_onehot[i]))[:,1])\n",
    "    train_ad_gbcrmse.append(rmse(train_ad_click[i],train_ad_gbcpd[i]))\n",
    "    train_ad_gbcauc.append(auc(train_ad_click[i],train_ad_gbcpd[i]))\n",
    "    vali_ad_gbcpd.append((gbc_model[i].predict_proba(vali_ad_onehot[i]))[:,1])\n",
    "    vali_ad_gbcrmse.append(rmse(vali_ad_click[i],vali_ad_gbcpd[i]))\n",
    "    vali_ad_gbcauc.append(auc(vali_ad_click[i],vali_ad_gbcpd[i]))\n",
    "    print(i+1,'/9')"
   ]
  },
  {
   "cell_type": "code",
   "execution_count": 24,
   "metadata": {
    "collapsed": false
   },
   "outputs": [
    {
     "name": "stdout",
     "output_type": "stream",
     "text": [
      "gradient boosting classification trainning results\n",
      "ad 1458 : RMSE 0.026443750082 AUC 0.724700871457\n",
      "ad 3476 : RMSE 0.022830452512 AUC 0.811639244735\n",
      "ad 3427 : RMSE 0.0260609938648 AUC 0.67768014107\n",
      "ad 3358 : RMSE 0.0251371761448 AUC 0.936727371031\n",
      "ad 2259 : RMSE 0.0166765141688 AUC 0.896786301953\n",
      "ad 2821 : RMSE 0.0238972925263 AUC 0.872763741275\n",
      "ad 3386 : RMSE 0.0263632548102 AUC 0.808190100721\n",
      "ad 2997 : RMSE 0.067300809438 AUC 0.789301125757\n",
      "ad 2261 : RMSE 0.0176942765021 AUC 0.911662446145\n",
      "gradient boosting classification validation results\n",
      "ad 1458 : RMSE 0.0269461885943 AUC 0.703915131305\n",
      "ad 3476 : RMSE 0.0207309003167 AUC 0.674057629899\n",
      "ad 3427 : RMSE 0.0282553662663 AUC 0.674674189447\n",
      "ad 3358 : RMSE 0.0237282904513 AUC 0.920677388202\n",
      "ad 2259 : RMSE 0.0259758503478 AUC 0.580102278268\n",
      "ad 2821 : RMSE 0.0251567783722 AUC 0.592125039038\n",
      "ad 3386 : RMSE 0.0245737886826 AUC 0.739048297085\n",
      "ad 2997 : RMSE 0.0654336574265 AUC 0.69494200041\n",
      "ad 2261 : RMSE 0.021365131573 AUC 0.572248410026\n"
     ]
    }
   ],
   "source": [
    "j = 0\n",
    "print('gradient boosting classification trainning results')\n",
    "for i in ad_name:\n",
    "    print('ad',i,':','RMSE',train_ad_gbcrmse[j],'AUC',train_ad_gbcauc[j])\n",
    "    j+=1\n",
    "j = 0\n",
    "print('gradient boosting classification validation results')\n",
    "for i in ad_name:    \n",
    "    print('ad',i,':','RMSE',vali_ad_gbcrmse[j],'AUC',vali_ad_gbcauc[j])\n",
    "    j+=1"
   ]
  },
  {
   "cell_type": "raw",
   "metadata": {},
   "source": [
    "gradient boosting classification validation results\n",
    "ad 1458 : RMSE 0.0298038599796 AUC 0.963225343893\n",
    "ad 3476 : RMSE 0.0207179601668 AUC 0.672073432157\n",
    "ad 3427 : RMSE 0.0285043446949 AUC 0.694419500954\n",
    "ad 3358 : RMSE 0.0414943462695 AUC 0.937509717487\n",
    "ad 2259 : RMSE 0.0259830818523 AUC 0.591042063738\n",
    "ad 2821 : RMSE 0.0250796616159 AUC 0.58919962133\n",
    "ad 3386 : RMSE 0.024527083622 AUC 0.68457227863\n",
    "ad 2997 : RMSE 0.0655184049188 AUC 0.656547680016\n",
    "ad 2261 : RMSE 0.0211107043447 AUC 0.57011597456"
   ]
  },
  {
   "cell_type": "code",
   "execution_count": 25,
   "metadata": {
    "collapsed": false
   },
   "outputs": [],
   "source": [
    "from sklearn.feature_selection import SelectFromModel\n",
    "from sklearn.pipeline import Pipeline\n",
    "pipe_model = []\n",
    "\n",
    "for i in range(ad_len):\n",
    "    pipe_model.append(Pipeline([('feature_selection', SelectFromModel(gbc_model[i])),('classification',lr_model[i])]))\n",
    "    pipe_model[i].fit(train_ad_onehot[i],train_ad_click[i])"
   ]
  },
  {
   "cell_type": "code",
   "execution_count": 26,
   "metadata": {
    "collapsed": false
   },
   "outputs": [],
   "source": [
    "pipe_pd = []\n",
    "pipe_rmse = []\n",
    "pipe_auc = []\n",
    "for i in range(ad_len):\n",
    "    pipe_pd.append((pipe_model[i].predict_proba(vali_ad_onehot[i]))[:,1])\n",
    "    pipe_rmse.append(rmse(vali_ad_click[i],pipe_pd[i]))\n",
    "    pipe_auc.append(auc(vali_ad_click[i],pipe_pd[i]))"
   ]
  },
  {
   "cell_type": "code",
   "execution_count": 27,
   "metadata": {
    "collapsed": false,
    "scrolled": true
   },
   "outputs": [
    {
     "name": "stdout",
     "output_type": "stream",
     "text": [
      "gbc+lr validation results\n",
      "ad 1458 : RMSE 0.25884552927 AUC 0.962506377657\n",
      "ad 3476 : RMSE 0.386376332685 AUC 0.804582773637\n",
      "ad 3427 : RMSE 0.306552422176 AUC 0.910795896023\n",
      "ad 3358 : RMSE 0.292740254655 AUC 0.896430753464\n",
      "ad 2259 : RMSE 0.416138631791 AUC 0.51788484553\n",
      "ad 2821 : RMSE 0.453868605753 AUC 0.5837623458\n",
      "ad 3386 : RMSE 0.443040636138 AUC 0.74942360904\n",
      "ad 2997 : RMSE 0.478011017826 AUC 0.65935483458\n",
      "ad 2261 : RMSE 0.447906787911 AUC 0.622005237561\n"
     ]
    }
   ],
   "source": [
    "j = 0\n",
    "print('gbc+lr validation results')\n",
    "for i in ad_name:    \n",
    "    print('ad',i,':','RMSE',pipe_rmse[j],'AUC',pipe_auc[j])\n",
    "    j+=1"
   ]
  },
  {
   "cell_type": "raw",
   "metadata": {},
   "source": [
    "gbc+lr validation results\n",
    "ad 1458 : RMSE 0.25884552927 AUC 0.962506377657\n",
    "ad 3476 : RMSE 0.386376332685 AUC 0.804582773637\n",
    "ad 3427 : RMSE 0.306552422176 AUC 0.910795896023\n",
    "ad 3358 : RMSE 0.292740254655 AUC 0.896430753464\n",
    "ad 2259 : RMSE 0.416138631791 AUC 0.51788484553\n",
    "ad 2821 : RMSE 0.453868605753 AUC 0.5837623458\n",
    "ad 3386 : RMSE 0.443040636138 AUC 0.74942360904\n",
    "ad 2997 : RMSE 0.478011017826 AUC 0.65935483458\n",
    "ad 2261 : RMSE 0.447906787911 AUC 0.622005237561\n"
   ]
  },
  {
   "cell_type": "code",
   "execution_count": 28,
   "metadata": {
    "collapsed": false
   },
   "outputs": [
    {
     "name": "stdout",
     "output_type": "stream",
     "text": [
      "0\n",
      "1\n",
      "2\n",
      "3\n",
      "4\n",
      "5\n",
      "6\n",
      "7\n",
      "8\n"
     ]
    }
   ],
   "source": [
    "# ## Concatenating Level 1 results\n",
    "train_L1 = []\n",
    "test_L1 = []\n",
    "L2_model = []\n",
    "vali_pd = []\n",
    "for i in range(ad_len):\n",
    "    print(i)\n",
    "    train_L1.append(np.column_stack((train_ad_gbcpd[i],train_ad_rfpd[i])))\n",
    "    test_L1.append(np.column_stack((vali_ad_gbcpd[i],vali_ad_rfpd[i])))#add as much as u want and wish u good luck\n",
    "    \n",
    "\n",
    "    # ## Fitting Level 1 models\n",
    "\n",
    "    L2_model.append(LogisticRegression(class_weight = 'balanced'))#y_pred_rfbagging,y_pred_xgb\n",
    "\n",
    "    L2_model[i].fit(train_L1[i],train_ad_click[i])\n",
    "    vali_pd.append(L2_model[i].predict(test_L1[i]))"
   ]
  },
  {
   "cell_type": "code",
   "execution_count": 29,
   "metadata": {
    "collapsed": false
   },
   "outputs": [],
   "source": [
    "st_vali_pd = []\n",
    "for i in range(ad_len):\n",
    "    st_vali_pd.append((L2_model[i].predict_proba(test_L1[i]))[:,1])"
   ]
  },
  {
   "cell_type": "code",
   "execution_count": 47,
   "metadata": {
    "collapsed": false
   },
   "outputs": [
    {
     "name": "stdout",
     "output_type": "stream",
     "text": [
      "& 0.907353063777\n",
      "& 0.804403472693\n",
      "& 0.892737470862\n",
      "& 0.839850345231\n",
      "& 0.609591773414\n",
      "& 0.559722195112\n",
      "& 0.724303565356\n",
      "& 0.662594105296\n",
      "& 0.677396184063\n"
     ]
    }
   ],
   "source": [
    "for i in range(ad_len):\n",
    "    print(rmse(vali_ad_click[i],st_vali_pd[i]),'&',auc(vali_ad_click[i],st_vali_pd[i]))"
   ]
  },
  {
   "cell_type": "raw",
   "metadata": {},
   "source": [
    "& 0.0804587510152 & 0.907353063777\n",
    "& 0.0691709328016 & 0.804403472693\n",
    "& 0.0913644561409 & 0.892737470862\n",
    "& 0.136265578943 & 0.839850345231\n",
    "& 0.15159031591 & 0.609591773414\n",
    "& 0.165435036113 & 0.559722195112\n",
    "& 0.152573376271 & 0.724303565356\n",
    "& 0.364836005967 & 0.662594105296\n",
    "& 0.0930549886918 & 0.677396184063"
   ]
  },
  {
   "cell_type": "code",
   "execution_count": 51,
   "metadata": {
    "collapsed": false
   },
   "outputs": [
    {
     "name": "stdout",
     "output_type": "stream",
     "text": [
      "1458 & 0.2385 & 0.0269 & 0.2588 & 0.0245 & 0.0805\n",
      "3476 & 0.3488 & 0.0207 & 0.3864 & 0.0181 & 0.0692\n",
      "3427 & 0.2909 & 0.0283 & 0.3066 & 0.0283 & 0.0914\n",
      "3358 & 0.2640 & 0.0237 & 0.2927 & 0.0263 & 0.1363\n",
      "2259 & 0.3290 & 0.0260 & 0.4161 & 0.0259 & 0.1516\n",
      "2821 & 0.4299 & 0.0252 & 0.4539 & 0.0251 & 0.1654\n",
      "3386 & 0.4336 & 0.0246 & 0.4430 & 0.0246 & 0.1526\n",
      "2997 & 0.4771 & 0.0654 & 0.4780 & 0.0658 & 0.3648\n",
      "2261 & 0.2763 & 0.0214 & 0.4479 & 0.0194 & 0.0931\n"
     ]
    }
   ],
   "source": [
    "j = 0\n",
    "for i in range(ad_len):\n",
    "    print(ad_name[j],'&',\"%.4f\" %vali_ad_lrrmse[j],'&',\"%.4f\" %vali_ad_gbcrmse[j],'&',\"%.4f\" %pipe_rmse[j],'&',\"%.4f\" %vali_ad_rfrmse[j],'&',\"%.4f\" %rmse(vali_ad_click[j],st_vali_pd[j]))\n",
    "    j+=1"
   ]
  },
  {
   "cell_type": "code",
   "execution_count": 32,
   "metadata": {
    "collapsed": true
   },
   "outputs": [],
   "source": [
    "model_name = ['logistic regresssion','gradient boosting classifier','GBC + LR','Random Forest','RF/GBC + LG']"
   ]
  },
  {
   "cell_type": "code",
   "execution_count": 33,
   "metadata": {
    "collapsed": true
   },
   "outputs": [],
   "source": [
    "def ad_to_total (ad_onehot,ad_pd):\n",
    "    ad_pctr = ad_onehot\n",
    "    j = 0\n",
    "    for i in ad_name:\n",
    "        ad_pctr[j]['pctr'] = ad_pd[j]\n",
    "        ad_pctr[j]['ad'] = i\n",
    "        ad_pctr[j] = ad_pctr[j][['pctr','ad']]\n",
    "        j+=1\n",
    "    pctr = (pd.concat(ad_pctr)).sort_index()\n",
    "    return pctr"
   ]
  },
  {
   "cell_type": "code",
   "execution_count": 39,
   "metadata": {
    "collapsed": true
   },
   "outputs": [],
   "source": [
    "models = [vali_ad_lrpd,vali_ad_gbcpd,pipe_pd,vali_ad_rfpd,vali_pd]"
   ]
  },
  {
   "cell_type": "code",
   "execution_count": 41,
   "metadata": {
    "collapsed": false
   },
   "outputs": [],
   "source": [
    "models_pctr = [0]* 5\n",
    "for i in range(len(models_pctr)):\n",
    "    models_pctr[i] = ad_to_total(vali_ad_onehot, models[i])"
   ]
  },
  {
   "cell_type": "code",
   "execution_count": 59,
   "metadata": {
    "collapsed": false
   },
   "outputs": [
    {
     "name": "stdout",
     "output_type": "stream",
     "text": [
      "Logistic Regression & 0.337029349387 & 0.825844479153 \\\\\n"
     ]
    }
   ],
   "source": [
    "print('Logistic Regression','&',rmse(vali['click'],models_pctr[0]['pctr']),'&',auc(vali['click'],models_pctr[0]['pctr']),'\\\\\\\\')"
   ]
  },
  {
   "cell_type": "code",
   "execution_count": 46,
   "metadata": {
    "collapsed": false
   },
   "outputs": [
    {
     "data": {
      "image/png": "[encoded data removed]",
      "text/plain": [
       "<matplotlib.figure.Figure at 0x22bf1271ba8>"
      ]
     },
     "metadata": {},
     "output_type": "display_data"
    }
   ],
   "source": [
    "import matplotlib.pyplot as plt\n",
    "from cycler import cycler\n",
    "import seaborn as sns\n",
    "from sklearn import metrics\n",
    "sns.set(style=\"white\", color_codes=True)\n",
    "from sklearn.metrics import roc_curve\n",
    "plt.figure(figsize=(14,10))\n",
    "\n",
    "\n",
    "for i in range(5):\n",
    "    fpr, tpr, thresholds = roc_curve(vali['click'], models_pctr[i]['pctr'])\n",
    "    lab = 'AUC=%.5f' % metrics.auc(fpr, tpr)\n",
    "    # axes.step(fpr, tpr, lw=2,label=lab)\n",
    "    plt.plot(fpr, tpr,label=model_name[i],linewidth=2)\n",
    "\n",
    "# axes.legend(loc='lower right', fontsize='small')\n",
    "plt.xlabel('False Positive Rate',fontsize=20)  \n",
    "plt.ylabel('True Positive Rate',fontsize=20) \n",
    "plt.title('ROC',fontsize=30) \n",
    "plt.grid(True)\n",
    "plt.legend(loc=\"lower right\",prop={'size':16})\n",
    "plt.plot([0, 1], [0, 1], 'k--', lw=1) \n",
    "plt.xlim([0.0, 1.0]) \n",
    "plt.ylim([0.0, 1.05])\n",
    "\n",
    "plt.show()"
   ]
  },
  {
   "cell_type": "code",
   "execution_count": null,
   "metadata": {
    "collapsed": true
   },
   "outputs": [],
   "source": []
  }
 ],
 "metadata": {
  "kernelspec": {
   "display_name": "Python 3",
   "language": "python",
   "name": "python3"
  },
  "language_info": {
   "codemirror_mode": {
    "name": "ipython",
    "version": 3
   },
   "file_extension": ".py",
   "mimetype": "text/x-python",
   "name": "python",
   "nbconvert_exporter": "python",
   "pygments_lexer": "ipython3",
   "version": "3.6.0"
  }
 },
 "nbformat": 4,
 "nbformat_minor": 0
}
